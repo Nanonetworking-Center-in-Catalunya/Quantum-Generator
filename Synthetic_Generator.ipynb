{
  "nbformat": 4,
  "nbformat_minor": 0,
  "metadata": {
    "colab": {
      "provenance": [],
      "toc_visible": true
    },
    "kernelspec": {
      "name": "python3",
      "display_name": "Python 3"
    },
    "language_info": {
      "name": "python"
    }
  },
  "cells": [
    {
      "cell_type": "markdown",
      "metadata": {
        "id": "aRIUZXMjHWal"
      },
      "source": [
        "# Install functions and libraries"
      ]
    },
    {
      "cell_type": "markdown",
      "source": [
        "## Install packages"
      ],
      "metadata": {
        "id": "6mIh6noTkkbz"
      }
    },
    {
      "cell_type": "code",
      "execution_count": 1,
      "metadata": {
        "colab": {
          "base_uri": "https://localhost:8080/"
        },
        "id": "j6IFjmcFK4ZL",
        "outputId": "930ce426-23a3-4d0e-ad96-867165f08bf2"
      },
      "outputs": [
        {
          "output_type": "stream",
          "name": "stdout",
          "text": [
            "\u001b[2K     \u001b[90m━━━━━━━━━━━━━━━━━━━━━━━━━━━━━━━━━━━━━━━━\u001b[0m \u001b[32m4.3/4.3 MB\u001b[0m \u001b[31m9.6 MB/s\u001b[0m eta \u001b[36m0:00:00\u001b[0m\n",
            "\u001b[2K     \u001b[90m━━━━━━━━━━━━━━━━━━━━━━━━━━━━━━━━━━━━━━━━\u001b[0m \u001b[32m2.1/2.1 MB\u001b[0m \u001b[31m12.9 MB/s\u001b[0m eta \u001b[36m0:00:00\u001b[0m\n",
            "\u001b[2K     \u001b[90m━━━━━━━━━━━━━━━━━━━━━━━━━━━━━━━━━━━━━━━━\u001b[0m \u001b[32m116.3/116.3 kB\u001b[0m \u001b[31m6.7 MB/s\u001b[0m eta \u001b[36m0:00:00\u001b[0m\n",
            "\u001b[2K     \u001b[90m━━━━━━━━━━━━━━━━━━━━━━━━━━━━━━━━━━━━━━━━\u001b[0m \u001b[32m49.7/49.7 kB\u001b[0m \u001b[31m1.3 MB/s\u001b[0m eta \u001b[36m0:00:00\u001b[0m\n",
            "\u001b[2K     \u001b[90m━━━━━━━━━━━━━━━━━━━━━━━━━━━━━━━━━━━━━━━━\u001b[0m \u001b[32m39.4/39.4 MB\u001b[0m \u001b[31m9.3 MB/s\u001b[0m eta \u001b[36m0:00:00\u001b[0m\n",
            "\u001b[2K     \u001b[90m━━━━━━━━━━━━━━━━━━━━━━━━━━━━━━━━━━━━━━━━\u001b[0m \u001b[32m107.5/107.5 kB\u001b[0m \u001b[31m4.1 MB/s\u001b[0m eta \u001b[36m0:00:00\u001b[0m\n",
            "\u001b[2K     \u001b[90m━━━━━━━━━━━━━━━━━━━━━━━━━━━━━━━━━━━━━━━━\u001b[0m \u001b[32m12.4/12.4 MB\u001b[0m \u001b[31m15.5 MB/s\u001b[0m eta \u001b[36m0:00:00\u001b[0m\n",
            "\u001b[2K     \u001b[90m━━━━━━━━━━━━━━━━━━━━━━━━━━━━━━━━━━━━━━━━\u001b[0m \u001b[32m162.6/162.6 kB\u001b[0m \u001b[31m4.0 MB/s\u001b[0m eta \u001b[36m0:00:00\u001b[0m\n",
            "\u001b[?25h  Preparing metadata (setup.py) ... \u001b[?25l\u001b[?25hdone\n",
            "  Building wheel for pylatexenc (setup.py) ... \u001b[?25l\u001b[?25hdone\n"
          ]
        }
      ],
      "source": [
        "#!pip install numpy>=1.24.1\n",
        "!pip install qiskit --quiet\n",
        "!pip install qiskit_aer --quiet\n",
        "!pip install pylatexenc --quiet\n",
        "!pip install qiskit-aer --quiet"
      ]
    },
    {
      "cell_type": "code",
      "execution_count": 2,
      "metadata": {
        "colab": {
          "base_uri": "https://localhost:8080/"
        },
        "id": "6w9Fgo2SWsP6",
        "outputId": "e5406215-14ea-4aa2-e2c9-53a3c1223441"
      },
      "outputs": [
        {
          "output_type": "stream",
          "name": "stdout",
          "text": [
            "\u001b[2K     \u001b[90m━━━━━━━━━━━━━━━━━━━━━━━━━━━━━━━━━━━━━━━━\u001b[0m \u001b[32m7.9/7.9 MB\u001b[0m \u001b[31m15.8 MB/s\u001b[0m eta \u001b[36m0:00:00\u001b[0m\n",
            "\u001b[2K     \u001b[90m━━━━━━━━━━━━━━━━━━━━━━━━━━━━━━━━━━━━━━━━\u001b[0m \u001b[32m111.7/111.7 kB\u001b[0m \u001b[31m11.5 MB/s\u001b[0m eta \u001b[36m0:00:00\u001b[0m\n",
            "\u001b[2K     \u001b[90m━━━━━━━━━━━━━━━━━━━━━━━━━━━━━━━━━━━━━━━━\u001b[0m \u001b[32m38.6/38.6 MB\u001b[0m \u001b[31m14.8 MB/s\u001b[0m eta \u001b[36m0:00:00\u001b[0m\n",
            "\u001b[2K     \u001b[90m━━━━━━━━━━━━━━━━━━━━━━━━━━━━━━━━━━━━━━━━\u001b[0m \u001b[32m50.0/50.0 kB\u001b[0m \u001b[31m1.8 MB/s\u001b[0m eta \u001b[36m0:00:00\u001b[0m\n",
            "\u001b[2K     \u001b[90m━━━━━━━━━━━━━━━━━━━━━━━━━━━━━━━━━━━━━━━━\u001b[0m \u001b[32m308.6/308.6 kB\u001b[0m \u001b[31m9.1 MB/s\u001b[0m eta \u001b[36m0:00:00\u001b[0m\n",
            "\u001b[2K     \u001b[90m━━━━━━━━━━━━━━━━━━━━━━━━━━━━━━━━━━━━━━━━\u001b[0m \u001b[32m3.0/3.0 MB\u001b[0m \u001b[31m54.4 MB/s\u001b[0m eta \u001b[36m0:00:00\u001b[0m\n",
            "\u001b[2K     \u001b[90m━━━━━━━━━━━━━━━━━━━━━━━━━━━━━━━━━━━━━━━━\u001b[0m \u001b[32m249.6/249.6 kB\u001b[0m \u001b[31m27.0 MB/s\u001b[0m eta \u001b[36m0:00:00\u001b[0m\n",
            "\u001b[2K     \u001b[90m━━━━━━━━━━━━━━━━━━━━━━━━━━━━━━━━━━━━━━━━\u001b[0m \u001b[32m130.2/130.2 kB\u001b[0m \u001b[31m11.1 MB/s\u001b[0m eta \u001b[36m0:00:00\u001b[0m\n",
            "\u001b[2K     \u001b[90m━━━━━━━━━━━━━━━━━━━━━━━━━━━━━━━━━━━━━━━━\u001b[0m \u001b[32m323.9/323.9 kB\u001b[0m \u001b[31m28.5 MB/s\u001b[0m eta \u001b[36m0:00:00\u001b[0m\n",
            "\u001b[?25h  Installing build dependencies ... \u001b[?25l\u001b[?25hdone\n",
            "  Getting requirements to build wheel ... \u001b[?25l\u001b[?25hdone\n",
            "  Preparing metadata (pyproject.toml) ... \u001b[?25l\u001b[?25hdone\n",
            "\u001b[2K     \u001b[90m━━━━━━━━━━━━━━━━━━━━━━━━━━━━━━━━━━━━━━━━\u001b[0m \u001b[32m62.1/62.1 kB\u001b[0m \u001b[31m7.3 MB/s\u001b[0m eta \u001b[36m0:00:00\u001b[0m\n",
            "\u001b[?25h  Installing build dependencies ... \u001b[?25l\u001b[?25hdone\n",
            "  Getting requirements to build wheel ... \u001b[?25l\u001b[?25hdone\n",
            "  Preparing metadata (pyproject.toml) ... \u001b[?25l\u001b[?25hdone\n",
            "\u001b[2K     \u001b[90m━━━━━━━━━━━━━━━━━━━━━━━━━━━━━━━━━━━━━━━━\u001b[0m \u001b[32m130.4/130.4 kB\u001b[0m \u001b[31m13.8 MB/s\u001b[0m eta \u001b[36m0:00:00\u001b[0m\n",
            "\u001b[2K     \u001b[90m━━━━━━━━━━━━━━━━━━━━━━━━━━━━━━━━━━━━━━━━\u001b[0m \u001b[32m121.4/121.4 kB\u001b[0m \u001b[31m13.7 MB/s\u001b[0m eta \u001b[36m0:00:00\u001b[0m\n",
            "\u001b[?25h  Building wheel for ibm-platform-services (pyproject.toml) ... \u001b[?25l\u001b[?25hdone\n",
            "  Building wheel for ibm-cloud-sdk-core (pyproject.toml) ... \u001b[?25l\u001b[?25hdone\n"
          ]
        }
      ],
      "source": [
        "!pip install pytket --quiet\n",
        "!pip install pytket-qiskit --quiet"
      ]
    },
    {
      "cell_type": "code",
      "execution_count": 3,
      "metadata": {
        "id": "da42NzxVMwwA"
      },
      "outputs": [],
      "source": [
        "import numpy as np\n",
        "from qiskit import *\n",
        "from qiskit import QuantumCircuit\n",
        "from qiskit_aer import AerSimulator\n",
        "from qiskit.visualization import plot_histogram\n",
        "\n",
        "from qiskit.dagcircuit import DAGCircuit\n",
        "from qiskit.converters import circuit_to_dag\n",
        "from qiskit.visualization import dag_drawer\n",
        "import sys\n",
        "import matplotlib.pyplot as plt"
      ]
    },
    {
      "cell_type": "markdown",
      "source": [
        "## Declare funtions"
      ],
      "metadata": {
        "id": "BdtvKy3zkq8q"
      }
    },
    {
      "cell_type": "markdown",
      "source": [
        "Calculating the weighted interaciton graph"
      ],
      "metadata": {
        "id": "iSpcajqQu0c7"
      }
    },
    {
      "cell_type": "code",
      "execution_count": 4,
      "metadata": {
        "id": "VrqsZd2MHZLx"
      },
      "outputs": [],
      "source": [
        "def interaction_graph(quantum_circuit):\n",
        "    dag = circuit_to_dag(quantum_circuit)\n",
        "    graph = nx.Graph()\n",
        "\n",
        "    qubit_weights = {}\n",
        "    for node in dag.topological_op_nodes():\n",
        "        qargs = node.qargs\n",
        "        hada = 0\n",
        "        if len(qargs) == 1:\n",
        "          hada = 1\n",
        "        for qubit in qargs:\n",
        "            if qubit not in qubit_weights:\n",
        "                qubit_weights[qubit] = 0\n",
        "            if hada:\n",
        "                qubit_weights[qubit] += 1\n",
        "\n",
        "    for qubit, weight in qubit_weights.items():\n",
        "        graph.add_node(qubit, weight=weight)\n",
        "\n",
        "    qubit_pairs = {}\n",
        "    for node in dag.topological_op_nodes():\n",
        "        qargs = node.qargs\n",
        "        if len(qargs) > 1:\n",
        "            pair = (qargs[0], qargs[1])\n",
        "            if pair not in qubit_pairs:\n",
        "              pair2 = (qargs[1], qargs[0])\n",
        "              if pair2 not in qubit_pairs:\n",
        "                qubit_pairs[pair] = 1\n",
        "              else:\n",
        "                qubit_pairs[pair2] += 1\n",
        "            else:\n",
        "              qubit_pairs[pair] += 1\n",
        "\n",
        "    for pair, weight in qubit_pairs.items():\n",
        "        qubit1, qubit2 = pair\n",
        "        graph.add_edge(qubit1, qubit2, weight=weight)\n",
        "\n",
        "    return graph"
      ]
    },
    {
      "cell_type": "markdown",
      "source": [
        "Calculation of the interaction adjacency matrix.\n",
        "\n",
        "A weight of a cell matrix[a][b] is the amount of times a gate featuring the qubits \"a\" and \"b\" appears on the circuit. For single-qubit gates a=b."
      ],
      "metadata": {
        "id": "taeXlGp9u5P7"
      }
    },
    {
      "cell_type": "code",
      "execution_count": 5,
      "metadata": {
        "id": "GV65SaScJRuO"
      },
      "outputs": [],
      "source": [
        "def get_adjacency_matrix(circuit):\n",
        "    num_qubits = circuit.num_qubits\n",
        "    adjacency_matrix=[]\n",
        "    total = 0\n",
        "    for i in range(0,num_qubits):\n",
        "        fila = []\n",
        "        for j in range(0,num_qubits):\n",
        "          fila.append(0)\n",
        "        adjacency_matrix.append(fila)\n",
        "\n",
        "    for gate in circuit.data:\n",
        "        if len(gate[1]) == 1:\n",
        "            qubit = int(  str(  gate[1][0]).split(',')[-1][1:].split(')')[0]  )\n",
        "            key = str(  gate[1][0]).split(',')[-2][1:-1].strip()[1]\n",
        "            if key == str(\"b\"):\n",
        "              qubit += int(len(circuit.qubits)/2)\n",
        "            adjacency_matrix[qubit][qubit] += 1\n",
        "            total +=1\n",
        "        elif len(gate[1]) == 2:\n",
        "          qubit1 = int( str(  gate[1][0]).split(',')[-1][1:].split(')')[0])\n",
        "          qubit2 = int( str(  gate[1][1]).split(',')[-1][1:].split(')')[0])\n",
        "\n",
        "          key = str(  gate[1][0]).split(',')[-2][1:-1].strip()[1]\n",
        "          if key == str(\"b\"):\n",
        "              qubit1 += int(len(circuit.qubits)/2)\n",
        "          key = str(  gate[1][1]).split(',')[-2][1:-1].strip()[1]\n",
        "          if key == str(\"b\"):\n",
        "            qubit2 += int(len(circuit.qubits)/2)\n",
        "\n",
        "          adjacency_matrix[qubit1][qubit2] += 1\n",
        "          adjacency_matrix[qubit2][qubit1] += 1\n",
        "          total +=1\n",
        "    adjacency_matrix.append(total)\n",
        "    return adjacency_matrix"
      ]
    },
    {
      "cell_type": "markdown",
      "source": [
        "Obtaining a key from a dictionary of probabilities based on the weights of the keys"
      ],
      "metadata": {
        "id": "ANc3dMumvnj5"
      }
    },
    {
      "cell_type": "code",
      "execution_count": 6,
      "metadata": {
        "id": "o4QRanucCkZN"
      },
      "outputs": [],
      "source": [
        "import random\n",
        "def random_sampling(weighted_dict):\n",
        "    keys = list(weighted_dict.keys())\n",
        "    weights = list(weighted_dict.values())\n",
        "    sampled_key = random.choices(keys, weights=weights, k=1)[0]\n",
        "    return sampled_key\n"
      ]
    },
    {
      "cell_type": "markdown",
      "source": [
        "Obtaining the metrics from the original circuit"
      ],
      "metadata": {
        "id": "XF3ec69nvzdg"
      }
    },
    {
      "cell_type": "code",
      "execution_count": 7,
      "metadata": {
        "id": "NK-_9HDgMAPF"
      },
      "outputs": [],
      "source": [
        "from qiskit.converters import dag_to_circuit\n",
        "\" Returns a dictionary with the positions (in slices) of the gates of each qubit\"\n",
        "def posiciones_gates_slices(circuito):\n",
        "  circ = circuito\n",
        "  dag = circuit_to_dag(circ)\n",
        "  layers = [dag_to_circuit(layer['graph']) for layer in dag.layers()]\n",
        "  posiciones = {}\n",
        "  for i in range (0,circ.num_qubits):\n",
        "    posiciones[i] = set()\n",
        "    posiciones[i].add(0)\n",
        "  for i,layer_as_circuit in enumerate(layers):\n",
        "      for op in layer_as_circuit.data:\n",
        "          q_index = circ.find_bit(op.qubits[0]).index\n",
        "          for j in range(0,len(op.qubits)):\n",
        "            posiciones[circ.find_bit(op.qubits[j]).index].add(i)\n",
        "  for i in range (0,circ.num_qubits):\n",
        "    posiciones[i].add(len(layers))\n",
        "  for qub in posiciones.keys():\n",
        "    posiciones[qub] = sorted(list(posiciones[qub]))\n",
        "  return posiciones\n",
        "\n",
        "\" Calculates the distances from the positions of the gates in the qubits\"\n",
        "def distancias_gates_slices(posiciones):\n",
        "  distancias = {}\n",
        "  for i in range (0,len(posiciones.keys())):\n",
        "    distancias[i] = []\n",
        "    pos_i = posiciones[i]\n",
        "    for j in range (1, len(pos_i)):\n",
        "      actual = pos_i[j] - pos_i[j-1]\n",
        "      distancias[i].append(actual)\n",
        "  return distancias\n",
        "\" Groups the distances from the different qubits into an unique dictionary of counts\"\n",
        "def crea_probabilidades(distancias):\n",
        "    counter = {}\n",
        "    for qubit in distancias.keys():\n",
        "      lista_Q = distancias[qubit]\n",
        "      for distancia in lista_Q:\n",
        "        if distancia not in counter.keys():\n",
        "          counter[distancia] = 0\n",
        "        counter[distancia] +=1\n",
        "    return counter\n",
        "\" Returns the probabilities dividing the counts of distnaces by the total amount of the counts\"\n",
        "def calcula(suma):\n",
        "    final = {}\n",
        "    count = 0\n",
        "    for k in suma.keys():\n",
        "        count += suma[k]\n",
        "    for k in suma.keys():\n",
        "      final[k] = suma[k]/count\n",
        "    return final\n",
        "\n",
        "\" Returns the distribution of gates in slices\"\n",
        "def calcula_distribucion(circuito):\n",
        "  plot_histogram = {}\n",
        "  circ = circuito\n",
        "  dag = circuit_to_dag(circ)\n",
        "  layers = [dag_to_circuit(layer['graph']) for layer in dag.layers()]\n",
        "  for i,layer_as_circuit in enumerate(layers):\n",
        "      n_gates = len(layer_as_circuit.data)\n",
        "      if n_gates == 24 and circuito == q_circ2:\n",
        "        continue #Debug virtual gates\n",
        "      if n_gates not in plot_histogram.keys():\n",
        "        plot_histogram[n_gates] = 0\n",
        "      plot_histogram[n_gates] +=1\n",
        "\n",
        "  return dict(sorted(plot_histogram.items()))\n",
        "\n",
        "\" Returns the distribution of gates in slices with the probabilities as the values\"\n",
        "def probDic(distribucion):\n",
        "  probabilidades = {}\n",
        "  total = 0\n",
        "  for numero in distribucion.keys():\n",
        "    total += distribucion[numero]\n",
        "  for numero in distribucion.keys():\n",
        "    probabilidades[numero] = distribucion[numero]/total\n",
        "  return probabilidades"
      ]
    },
    {
      "cell_type": "markdown",
      "source": [
        "Shows a plot representing a dictionary. Used to represent the gates in slices distribution."
      ],
      "metadata": {
        "id": "JsqBUIv9wmF8"
      }
    },
    {
      "cell_type": "code",
      "execution_count": 8,
      "metadata": {
        "id": "_VevKUHrMou2"
      },
      "outputs": [],
      "source": [
        "def distribucion_gates_por_slice(aux):\n",
        "\n",
        "  # Extraer claves y valores del diccionario\n",
        "    keys = list(aux.keys())\n",
        "    values = list(aux.values())\n",
        "\n",
        "    plt.bar(keys, values, color='blue')\n",
        "\n",
        "    # Configurar etiquetas\n",
        "    plt.xlabel('Gates in the Slice')\n",
        "    plt.ylabel('Count')\n",
        "    plt.title('Distribution of gates in slices')\n",
        "\n",
        "    # Mostrar histograma\n",
        "    plt.show()"
      ]
    },
    {
      "cell_type": "markdown",
      "metadata": {
        "id": "vHHHcw2L90NP"
      },
      "source": [
        "### Statistic tests to compare distributions"
      ]
    },
    {
      "cell_type": "code",
      "execution_count": 9,
      "metadata": {
        "id": "DjUGIss5JB8D"
      },
      "outputs": [],
      "source": [
        "import scipy.stats as stats\n",
        "def CompareDistributions(Synthetic, Original):\n",
        "  data1 = []\n",
        "  data2 = []\n",
        "\n",
        "  for key,value in Synthetic.items():\n",
        "    data1.extend([key]*value)\n",
        "\n",
        "  for key,value in Original.items():\n",
        "    data2.extend([key]*value)\n",
        "\n",
        "  # Kolmogorov-Smirnov\n",
        "  result_1 = stats.ks_2samp(data1, data2)\n",
        "\n",
        "  # Anderson-Darling\n",
        "  result_2 = stats.anderson_ksamp([data1, data2])\n",
        "\n",
        "  print(\"Statistic of test 1 (Kolmogorov-Smirnov):\", result_1.statistic)\n",
        "  print(\"P value of test 1:\", result_1.pvalue)\n",
        "\n",
        "  print(\"Statistic of test 2 (Anderson-Darling):\", result_2.statistic)\n",
        "  print(\"P value of test 2:\", result_2.pvalue)"
      ]
    },
    {
      "cell_type": "markdown",
      "metadata": {
        "id": "8hb5tzk093pT"
      },
      "source": [
        "### Entropies"
      ]
    },
    {
      "cell_type": "code",
      "source": [
        "def calculate_entr(matrix):\n",
        "    matrix_np = np.array(matrix)\n",
        "    prob_values = np.bincount(matrix_np.flatten()) / matrix_np.size\n",
        "    prob_values_no_zero = prob_values[prob_values != 0]\n",
        "    entro = -np.sum(prob_values_no_zero * np.log2(prob_values_no_zero))\n",
        "    return entro"
      ],
      "metadata": {
        "id": "OopDYls80LDc"
      },
      "execution_count": 10,
      "outputs": []
    },
    {
      "cell_type": "markdown",
      "source": [
        "Calculates the matrix associated with a circuit"
      ],
      "metadata": {
        "id": "TkCZPyqaxAvD"
      }
    },
    {
      "cell_type": "code",
      "execution_count": 11,
      "metadata": {
        "id": "vEb8YZ3AZGjC"
      },
      "outputs": [],
      "source": [
        "\" Returns a matrix where the x-axis is the time and the y-axis the qubit number. There's a 1 in a cell[x][y] if the qubit x interacts in the slice y\"\n",
        "def calcula_matriz_de_circuito(circuito):\n",
        "  eje_y = len(q_circ0.qubits)\n",
        "\n",
        "\n",
        "  circ = circuito\n",
        "  dag = circuit_to_dag(circ)\n",
        "  layers = [dag_to_circuit(layer['graph']) for layer in dag.layers()]\n",
        "  #print(len(layers))\n",
        "  eje_x = min(100, len(layers)) #depth\n",
        "\n",
        "  # Un elemento de la lista es un slice, dentro de un slice hay un elemento por qubit\n",
        "  matriz_pura = [[0 for _ in range(eje_y)] for _ in range(eje_x)]\n",
        "\n",
        "  for i in range(eje_x):\n",
        "      layer_as_circuit = layers[i]\n",
        "      n_gates = len(layer_as_circuit.data)\n",
        "      for operacion in layers[2].data:\n",
        "        for qub in operacion.qubits:\n",
        "          participa = int(str(qub).split(',')[-1][1:-1])\n",
        "          matriz_pura[i][participa] = 1\n",
        "\n",
        "  return matriz_pura"
      ]
    },
    {
      "cell_type": "markdown",
      "metadata": {
        "id": "-NaWzv9ptgXz"
      },
      "source": [
        "### Mountain ordination"
      ]
    },
    {
      "cell_type": "markdown",
      "source": [
        "Checks the ordination of the slices of the origianl circuit"
      ],
      "metadata": {
        "id": "ykLbUBSkxTRf"
      }
    },
    {
      "cell_type": "code",
      "execution_count": 12,
      "metadata": {
        "id": "NtNXXMK3tiGv"
      },
      "outputs": [],
      "source": [
        "def calcula_orden_temporal(circuito):\n",
        "\n",
        "  plot_histogram = []\n",
        "\n",
        "  circ = circuito\n",
        "\n",
        "  dag = circuit_to_dag(circ)\n",
        "  layers = [dag_to_circuit(layer['graph']) for layer in dag.layers()]\n",
        "  print(len(layers))\n",
        "  for i,layer_as_circuit in enumerate(layers):\n",
        "      #print(len(layer_as_circuit.data))\n",
        "      n_gates = len(layer_as_circuit.data)\n",
        "      plot_histogram.append(n_gates)\n",
        "\n",
        "  return plot_histogram"
      ]
    },
    {
      "cell_type": "markdown",
      "source": [
        "Plots the slices"
      ],
      "metadata": {
        "id": "rjBxagJJxXDU"
      }
    },
    {
      "cell_type": "code",
      "execution_count": 13,
      "metadata": {
        "id": "p-hL_oGytzas"
      },
      "outputs": [],
      "source": [
        "def crea_hist_temporal(base):\n",
        "  vector = base\n",
        "  plt.scatter(range(len(vector)), vector)\n",
        "\n",
        "  plt.xlabel('Índice de slice')\n",
        "  plt.ylabel('Gates en el slice')\n",
        "\n",
        "  plt.show()"
      ]
    },
    {
      "cell_type": "markdown",
      "source": [
        "Order the slices in a mountain shape"
      ],
      "metadata": {
        "id": "Fga0xl67xbox"
      }
    },
    {
      "cell_type": "code",
      "execution_count": 14,
      "metadata": {
        "id": "w-dFJFHYuOU1"
      },
      "outputs": [],
      "source": [
        "def ordena_sampleos(vector_samplings):\n",
        "  vec_orden = []\n",
        "  base = sorted(vector_samplings)\n",
        "  base_inv = base[::-1]\n",
        "  for i in range(len(base_inv)):\n",
        "    if i%2 == 0:\n",
        "      vec_orden.append(base_inv[i])\n",
        "    else:\n",
        "      vec_orden.insert(0,base_inv[i])\n",
        "  return vec_orden"
      ]
    },
    {
      "cell_type": "markdown",
      "metadata": {
        "id": "cg-HoUp0d62N"
      },
      "source": [
        "### Synthetic circuit"
      ]
    },
    {
      "cell_type": "markdown",
      "source": [
        "Definition of the synthetic circuits.\n",
        "\n",
        "The first function is used in the pseudo-random strategy when sampling from the distribution of gates in slices.\n",
        "\n",
        "The second function is used to calculate the weights of all the possible gates.\n",
        "\n",
        "The third function is the main code of the generator, where all the process explained in the Thesis happens."
      ],
      "metadata": {
        "id": "19c7H3Fpxfc4"
      }
    },
    {
      "cell_type": "code",
      "source": [
        "\" Random sampling for slices\"\n",
        "\" Takes into consideration the actual sampled average, the objective average, and the previous sample\"\n",
        "\" If the averages are close (15% of difference), random sampling\"\n",
        "\" If the averages are different (> 15% of difference), higher or lower sampled values in order to bring the two averages closer\"\n",
        "\" (Out of the function) Once a key is sampled, it's probability gets halved.\"\n",
        "def random_samplingMountain(weighted_dict, anterior, media_actual, objetivo):\n",
        "    if media_actual == 0:\n",
        "        # Primera iteración\n",
        "        keys = list(weighted_dict.keys())\n",
        "        weights = list(weighted_dict.values())\n",
        "        sampled_key = random.choices(keys, weights=weights, k=1)[0]\n",
        "        return sampled_key\n",
        "    else:\n",
        "        # Hay que acercarnos a la media\n",
        "        diferencia = media_actual - objetivo\n",
        "        if abs(diferencia) / objetivo < 0.15:\n",
        "            # Estamos en un margen del 15% de la media objetivo, sampleamos igual\n",
        "            filtered_keys = [key for key in weighted_dict.keys()]\n",
        "            filtered_weights = [weighted_dict[key] for key in filtered_keys]\n",
        "        elif diferencia < 0:\n",
        "            # Tenemos una media inferior\n",
        "            filtered_keys = [key for key in weighted_dict.keys() if key >= (anterior) and key <= (anterior + (0.4 * len(weighted_dict.keys())))]\n",
        "            filtered_weights = [weighted_dict[key] for key in filtered_keys]\n",
        "        else:\n",
        "            # Tenemos una media superior\n",
        "            filtered_keys = [key for key in weighted_dict.keys() if key >= (anterior - (0.4 * len(weighted_dict.keys()))) and key <= (anterior)]\n",
        "            filtered_weights = [weighted_dict[key] for key in filtered_keys]\n",
        "\n",
        "        sampled_key = random.choices(filtered_keys, weights=filtered_weights, k=1)[0]\n",
        "        return sampled_key\n",
        "\n",
        "def PodaPosiblesMountain(qbs_no, probs_dists, probs_dentro_1_qubit, distancias, lista_total, lista_valida, chains_og, cadenas):\n",
        "  posibilidades = {}\n",
        "\n",
        "  lista_posibles = [x for x in lista_total if x not in qbs_no]\n",
        "\n",
        "  for i in range(0,len(lista_posibles)):\n",
        "    qub1 = lista_posibles[i]\n",
        "    for j in range(0,len(lista_posibles)):\n",
        "      qub2 = lista_posibles[j]\n",
        "      probabilidad = 0\n",
        "      if qub1==qub2:\n",
        "        \"Single qubit gate\"\n",
        "        probabilidadQubitActue = probs_dists[distancias[qub1]] * chains_og[cadenas[qub1]]\n",
        "        probabilidadSingleGate = probs_dentro_1_qubit[qub1][qub1] / probs_dentro_1_qubit[-1]\n",
        "        \" We can only use qubits from the previous slice, since its a single qubit gate\"\n",
        "        puede = 0\n",
        "        if qub1 in lista_valida:\n",
        "          puede = 1\n",
        "        probabilidad = probabilidadQubitActue * probabilidadSingleGate * puede\n",
        "      else:\n",
        "        \"Two qubit gate\"\n",
        "        probabilidadQubit1Actue = probs_dists[distancias[qub1]] * chains_og[cadenas[qub1]]\n",
        "        probabilidadQubit2Actue = probs_dists[distancias[qub2]] * chains_og[cadenas[qub2]]\n",
        "        probabilidadTwoGate = (probs_dentro_1_qubit[qub1][qub2]+probs_dentro_1_qubit[qub2][qub1]) / probs_dentro_1_qubit[-1]\n",
        "\n",
        "        \" If one of the qubits has been used on the last slice, the gate is possible\"\n",
        "        puede = 0\n",
        "\n",
        "        if qub1 in lista_valida or qub2 in lista_valida:\n",
        "          #print(\"MIRA GATE\", i, j, lista_valida)\n",
        "          puede = 1\n",
        "\n",
        "        probabilidad = probabilidadQubit1Actue * probabilidadQubit2Actue * probabilidadTwoGate * puede\n",
        "\n",
        "      if probabilidad != 0:\n",
        "        if qub1 not in lista_valida and qub2 not in lista_valida:\n",
        "          print(\"AQUI PASA\", qub1, qub2, lista_valida)\n",
        "        posibilidades[(qub1,qub2)] = probabilidad\n",
        "\n",
        "  return posibilidades\n",
        "\n",
        "def CreaCircuitoMountain(n_qubits,depth,distribucion,probabilidades,grafo, chains_og):\n",
        "  circuito = QuantumCircuit(n_qubits)\n",
        "  lista_Total = [x for x in range(0,n_qubits)]\n",
        "  distancias = {}\n",
        "  cadenas = {}\n",
        "  for i in range(n_qubits):\n",
        "    cadenas[i] = 0\n",
        "  for w in range(0,n_qubits):\n",
        "    distancias[w] = 1\n",
        "  distancia_maxima = max(probabilidades, key=probabilidades.get)\n",
        "\n",
        "\n",
        "  anterior = 0 # previous\n",
        "  lista_valida = lista_Total # qubits available for the slice, initialy all of them\n",
        "\n",
        "  \" Sampling and order, we take into consideration: \"\n",
        "  \" 1- The original average, to bring us closer with the samples\"\n",
        "  \" 2- The average of the samples\"\n",
        "  \" 3- The previous sample\"\n",
        "  \" 4- Last, we order the samples in a mountain shape\"\n",
        "  suma_original = 0\n",
        "  for elem in distribucion.keys():\n",
        "    suma_original += distribucion[elem]*elem\n",
        "  media_original = suma_original / sum(list(distribucion.values())) # ideal average of the samples\n",
        "\n",
        "  suma_samplings = 0\n",
        "  media_samplings = 0\n",
        "  anterior = 0 # previous sample\n",
        "  slices_sizes = [] # samples\n",
        "\n",
        "  diccionario_para_samplear = {} # when a key is sampled: dic[key] /=2\n",
        "  for k in distribucion.keys():\n",
        "    diccionario_para_samplear[k] = float(distribucion[k]) # floats to prevent the division / 2 to create 0s\n",
        "\n",
        "  for _ in range(depth):\n",
        "    sample_i = random_samplingMountain(diccionario_para_samplear,anterior, media_samplings,media_original)\n",
        "    suma_samplings += sample_i\n",
        "    slices_sizes.append(sample_i)\n",
        "    media_samplings = suma_samplings / len(slices_sizes)\n",
        "    anterior = sample_i\n",
        "    diccionario_para_samplear[sample_i] = diccionario_para_samplear[sample_i]/2\n",
        "\n",
        "    sampleos_ordenados = ordena_sampleos(slices_sizes)\n",
        "\n",
        "  \" For every slice \"\n",
        "\n",
        "  for i in range(len(sampleos_ordenados)):\n",
        "\n",
        "    \" The i slice will have sampleos_ordenados[i] gates, those samples are prior to the construction of the circuit\"\n",
        "    numero_gates_slice = sampleos_ordenados[i]\n",
        "\n",
        "\n",
        "    if i%10 == 0:\n",
        "      #print(i,depth-1,numero_gates_slice)\n",
        "      test=0\n",
        "\n",
        "    for x in range(0,25):\n",
        "      \" Trying up to 25 tries to fill slices\"\n",
        "      completa = True\n",
        "      gates_a_añadir = []\n",
        "      qubits_usados = []\n",
        "      \" A try to fill the slice\"\n",
        "      for j in range(0, numero_gates_slice):\n",
        "\n",
        "        #Generar probabilidades\n",
        "        posibilidades = PodaPosiblesMountain(qubits_usados,probabilidades,grafo,distancias, lista_Total, lista_valida, chains_og, cadenas)\n",
        "        #Sampling probabilidades\n",
        "        if len(posibilidades) == 0:\n",
        "          completa = False\n",
        "          break\n",
        "\n",
        "        gate_a_añadir = random_sampling(posibilidades)\n",
        "\n",
        "        q1,q2 = gate_a_añadir\n",
        "        qubits_usados.append(q1)\n",
        "\n",
        "        gates_a_añadir.append((q1,q2))\n",
        "\n",
        "        if q1 != q2:\n",
        "          qubits_usados.append(q2)\n",
        "      #print(completa, i, len(gates_a_añadir),numero_gates_slice)\n",
        "      if completa:\n",
        "        \" Increase the chains of the used qubits \"\n",
        "        for qubit in cadenas.keys():\n",
        "          if qubit in qubits_usados:\n",
        "            if cadenas[qubit] < len(chains_og.keys())-1:\n",
        "              cadenas[qubit] += 1\n",
        "              #print(cadenas[qubit], max(chains_og.keys()))\n",
        "          else:\n",
        "            cadenas[qubit] = 0\n",
        "\n",
        "        \"We have managed to add all gates\"\n",
        "        for q1,q2 in gates_a_añadir:\n",
        "          if grafo[q1][q2] > 1:\n",
        "            grafo[q1][q2] -= 1\n",
        "          else:\n",
        "            grafo[q1][q2] = sys.float_info.epsilon\n",
        "          #grafo[q1][q2] /= 2\n",
        "\n",
        "          if q1 == q2:\n",
        "            circuito.h(q1)\n",
        "          else:\n",
        "            circuito.cx(q1,q2)\n",
        "\n",
        "\n",
        "        for qub in distancias.keys():\n",
        "          if qub not in qubits_usados:\n",
        "              if distancias[qub] < distancia_maxima:\n",
        "                distancias[qub]+=1\n",
        "          else:\n",
        "            distancias[qub] = 1\n",
        "        lista_valida = qubits_usados\n",
        "        break\n",
        "\n",
        "      else:\n",
        "        \" Slice NOT full, re-try\"\n",
        "        if x+1 > 24:\n",
        "          print(\"On the \", i, \" slice, \", len(gates_a_añadir), \" gates out of \", numero_gates_slice, \" were added. Try\", (x+1))\n",
        "\n",
        "  return circuito, sampleos_ordenados"
      ],
      "metadata": {
        "id": "ormOwOCBYw20"
      },
      "execution_count": 15,
      "outputs": []
    },
    {
      "cell_type": "markdown",
      "metadata": {
        "id": "rwGE21WdQaKa"
      },
      "source": [
        "### Gate-density aware random"
      ]
    },
    {
      "cell_type": "code",
      "execution_count": 16,
      "metadata": {
        "id": "Erm2s3yqRFEx"
      },
      "outputs": [],
      "source": [
        "def random_samplingRandom(weighted_dict, anterior, media_actual, objetivo):\n",
        "    if media_actual == 0:\n",
        "        # Primera iteración\n",
        "        keys = list(weighted_dict.keys())\n",
        "        weights = list(weighted_dict.values())\n",
        "        sampled_key = random.choices(keys, weights=weights, k=1)[0]\n",
        "        return sampled_key\n",
        "    else:\n",
        "        # Hay que acercarnos a la media\n",
        "        diferencia = media_actual - objetivo\n",
        "        if abs(diferencia) / objetivo < 0.15:\n",
        "            # Estamos en un margen del 15% de la media objetivo, sampleamos igual\n",
        "            filtered_keys = [key for key in weighted_dict.keys()]\n",
        "            filtered_weights = [weighted_dict[key] for key in filtered_keys]\n",
        "        elif diferencia < 0:\n",
        "            # Tenemos una media inferior\n",
        "            filtered_keys = [key for key in weighted_dict.keys() if key >= (anterior) and key <= (anterior + (0.4 * len(weighted_dict.keys())))]\n",
        "            filtered_weights = [weighted_dict[key] for key in filtered_keys]\n",
        "        else:\n",
        "            # Tenemos una media superior\n",
        "            filtered_keys = [key for key in weighted_dict.keys() if key >= (anterior - (0.4 * len(weighted_dict.keys()))) and key <= (anterior)]\n",
        "            filtered_weights = [weighted_dict[key] for key in filtered_keys]\n",
        "\n",
        "        sampled_key = random.choices(filtered_keys, weights=filtered_weights, k=1)[0]\n",
        "        return sampled_key\n",
        "\n",
        "\n",
        "def Poda2(qbs_no, lista_total, lista_valida):\n",
        "  posibilidades = {}\n",
        "\n",
        "  lista_posibles = [x for x in lista_total if x not in qbs_no and x in lista_valida]\n",
        "  otros = [x for x in lista_total if x not in lista_valida]\n",
        "  sample_1 = random.choice(lista_total)\n",
        "  sample_2 = random.choice(lista_total+otros+otros+otros)\n",
        "\n",
        "  while sample_1 not in lista_valida and sample_2 not in lista_valida:\n",
        "    sample_1 = random.choice(lista_total)\n",
        "    sample_2 = random.choice(lista_total+otros+otros+otros)\n",
        "    if len(lista_valida) == 0:\n",
        "      break\n",
        "\n",
        "\n",
        "  posibilidades[(sample_1,sample_2)] = 1\n",
        "  posibilidades[(sample_2,sample_1)] = 1\n",
        "  posibilidades[(random.choice(lista_total),random.choice(lista_total))] = 1\n",
        "\n",
        "  return posibilidades\n",
        "\n",
        "\n",
        "def PodaPosiblesRandom(qbs_no, probs_dists, probs_dentro_1_qubit, distancias, lista_total, lista_valida):\n",
        "  posibilidades = {}\n",
        "\n",
        "  lista_posibles = [x for x in lista_total if x not in qbs_no]\n",
        "  for i in range(0,len(lista_posibles)):\n",
        "    qub1 = lista_posibles[i]\n",
        "    for j in range(0,len(lista_posibles)):\n",
        "      qub2 = lista_posibles[j]\n",
        "      probabilidad = 0\n",
        "      if qub1==qub2:\n",
        "\n",
        "        probabilidadQubitActue = probs_dists[distancias[qub1]]\n",
        "        probabilidadSingleGate = probs_dentro_1_qubit[qub1][qub1] / probs_dentro_1_qubit[-1]\n",
        "\n",
        "        puede = 0\n",
        "        if qub1 in lista_valida:\n",
        "          puede = 1\n",
        "        probabilidad = probabilidadQubitActue * probabilidadSingleGate * puede\n",
        "        probabilidad = 1 * puede\n",
        "      else:\n",
        "\n",
        "        probabilidadQubit1Actue = probs_dists[distancias[qub1]]\n",
        "        probabilidadQubit2Actue = probs_dists[distancias[qub2]]\n",
        "        probabilidadTwoGate = (probs_dentro_1_qubit[qub1][qub2]+probs_dentro_1_qubit[qub2][qub1]) / probs_dentro_1_qubit[-1]\n",
        "\n",
        "\n",
        "        puede = 0\n",
        "\n",
        "        if qub1 in lista_valida or qub2 in lista_valida:\n",
        "\n",
        "          puede = 1\n",
        "\n",
        "        probabilidad = probabilidadQubit1Actue * probabilidadQubit2Actue * probabilidadTwoGate * puede\n",
        "        probabilidad = 1 * puede\n",
        "\n",
        "      if probabilidad != 0:\n",
        "        if qub1 not in lista_valida and qub2 not in lista_valida:\n",
        "          print(\"AQUI PASA\", qub1, qub2, lista_valida)\n",
        "        posibilidades[(qub1,qub2)] = probabilidad\n",
        "\n",
        "  return posibilidades\n",
        "\n",
        "\n",
        "def CreaCircuitoRandom(n_qubits,depth,distribucion,probabilidades,grafo):\n",
        "  circuito = QuantumCircuit(n_qubits)\n",
        "  lista_Total = [x for x in range(0,n_qubits)]\n",
        "  distancias = {}\n",
        "  for w in range(0,n_qubits):\n",
        "    distancias[w] = 1\n",
        "  distancia_maxima = max(probabilidades, key=probabilidades.get)\n",
        "\n",
        "\n",
        "  anterior = 0\n",
        "  lista_valida = lista_Total\n",
        "\n",
        "\n",
        "  suma_original = 0\n",
        "  for elem in distribucion.keys():\n",
        "    suma_original += distribucion[elem]*elem\n",
        "  media_original = suma_original / sum(list(distribucion.values()))\n",
        "\n",
        "  suma_samplings = 0\n",
        "  media_samplings = 0\n",
        "  anterior = 0\n",
        "  slices_sizes = []\n",
        "\n",
        "  diccionario_para_samplear = {}\n",
        "  for k in distribucion.keys():\n",
        "    diccionario_para_samplear[k] = float(distribucion[k])\n",
        "  for _ in range(depth):\n",
        "    sample_i = random_samplingRandom(diccionario_para_samplear,anterior, media_samplings,media_original)\n",
        "    suma_samplings += sample_i\n",
        "    slices_sizes.append(sample_i)\n",
        "    media_samplings = suma_samplings / len(slices_sizes)\n",
        "    anterior = sample_i\n",
        "    diccionario_para_samplear[sample_i] = diccionario_para_samplear[sample_i]/2\n",
        "\n",
        "    sampleos_ordenados = ordena_sampleos(slices_sizes)\n",
        "\n",
        "\n",
        "  for i in range(len(sampleos_ordenados)):\n",
        "\n",
        "\n",
        "    numero_gates_slice = sampleos_ordenados[i]\n",
        "\n",
        "\n",
        "    if i%10 == 0:\n",
        "\n",
        "      test=0\n",
        "\n",
        "    for x in range(0,5):\n",
        "\n",
        "      completa = True\n",
        "      gates_a_añadir = []\n",
        "      qubits_usados = []\n",
        "\n",
        "      for j in range(0, numero_gates_slice):\n",
        "\n",
        "        posibilidades = Poda2(qubits_usados, lista_Total, lista_valida)\n",
        "\n",
        "        if len(posibilidades) == 0:\n",
        "          completa = False\n",
        "          break\n",
        "\n",
        "        gate_a_añadir = random_sampling(posibilidades)\n",
        "\n",
        "        q1,q2 = gate_a_añadir\n",
        "        qubits_usados.append(q1)\n",
        "\n",
        "        gates_a_añadir.append((q1,q2))\n",
        "\n",
        "        if q1 != q2:\n",
        "          qubits_usados.append(q2)\n",
        "\n",
        "      if completa:\n",
        "\n",
        "        for q1,q2 in gates_a_añadir:\n",
        "          if q1 == q2:\n",
        "            circuito.h(q1)\n",
        "          else:\n",
        "            circuito.cx(q1,q2)\n",
        "\n",
        "\n",
        "        for qub in distancias.keys():\n",
        "          if qub not in qubits_usados and distancias[qub] < distancia_maxima:\n",
        "              distancias[qub]+=1\n",
        "          else:\n",
        "            distancias[qub] = 1\n",
        "        lista_valida = qubits_usados\n",
        "        break\n",
        "\n",
        "      else:\n",
        "\n",
        "        print(\"On the \", i, \" slice, \", len(gates_a_añadir), \" gates out of \", numero_gates_slice, \" were added. Try\", (x+1))\n",
        "\n",
        "  return circuito, sampleos_ordenados"
      ]
    },
    {
      "cell_type": "markdown",
      "source": [
        "### Total random"
      ],
      "metadata": {
        "id": "L6ZBequaj7xn"
      }
    },
    {
      "cell_type": "code",
      "source": [
        "def CreaRandomTotal(qubits,gates):\n",
        "  a_devolver = QuantumCircuit(qubits)\n",
        "  posibles = [x for x in range(qubits)]\n",
        "  for _ in range(gates):\n",
        "    q1 = random.choice(posibles)\n",
        "    q2 = random.choice(posibles)\n",
        "\n",
        "    if q1 == q2:\n",
        "      a_devolver.h(q1)\n",
        "    else:\n",
        "      a_devolver.cx(q1,q2)\n",
        "\n",
        "  return a_devolver"
      ],
      "metadata": {
        "id": "9B9W5KXSj9OU"
      },
      "execution_count": 17,
      "outputs": []
    },
    {
      "cell_type": "markdown",
      "metadata": {
        "id": "C_BJxNpYZDgI"
      },
      "source": [
        "### HeatMap"
      ]
    },
    {
      "cell_type": "code",
      "source": [
        "\" Creates the number association depending on the gates of each qubit in each slice: 0s for no interaction, 1s for two-qubit gates, and 2s for single-qubit gates\"\n",
        "def matriz_pintar(circuito):\n",
        "  eje_y = len(circuito.qubits)\n",
        "\n",
        "  circ = circuito\n",
        "  dag = circuit_to_dag(circ)\n",
        "  layers = [dag_to_circuit(layer['graph']) for layer in dag.layers()]\n",
        "\n",
        "  eje_x = len(layers)\n",
        "\n",
        "  matriz_pura = [[0 for _ in range(eje_y)] for _ in range(eje_x)]\n",
        "\n",
        "\n",
        "  for i in range(eje_x):\n",
        "      layer_as_circuit = layers[i]\n",
        "      n_gates = len(layer_as_circuit.data)\n",
        "\n",
        "      for operacion in layer_as_circuit:\n",
        "\n",
        "        swap = False\n",
        "        if operacion.operation.name == \"swap\":\n",
        "          swap = True\n",
        "        for qub in operacion.qubits:\n",
        "          participa = int(str(qub).split(',')[-1][1:-1])\n",
        "          key = str(qub).split(',')[-2][1:-1].strip()[1]\n",
        "\n",
        "\n",
        "          if key == str(\"b\"):\n",
        "            participa += int(eje_y/2)\n",
        "\n",
        "          if len(operacion.qubits) == 1:\n",
        "            matriz_pura[i][participa] = 2\n",
        "          else:\n",
        "\n",
        "            matriz_pura[i][participa] = 1\n",
        "            if swap:\n",
        "              matriz_pura[i][participa] = 3\n",
        "  return matriz_pura\n",
        "\n",
        "\" Plots the heatmap of a circuit, the second parameter allows random shuffle of the qubits\"\n",
        "def printa_heatmap(circuito, original = -1):\n",
        "  mat = matriz_pintar(circuito)\n",
        "\n",
        "  if original >= 0:\n",
        "    if original == 0:\n",
        "\n",
        "      orden_shuffle = list(range(len(mat[0])))\n",
        "      random.shuffle(orden_shuffle)\n",
        "\n",
        "      for vector in mat:\n",
        "            vector[:] =[vector[i] for i in orden_shuffle]\n",
        "\n",
        "    elif original == 1:\n",
        "      for vector in mat:\n",
        "        mitad = len(vector) // 2\n",
        "\n",
        "        orden_shuffle = list(range(mitad))\n",
        "        random.shuffle(orden_shuffle)\n",
        "\n",
        "\n",
        "        for vector in mat:\n",
        "            primera_mitad = [vector[i] for i in orden_shuffle]\n",
        "            segunda_mitad = vector[mitad:]\n",
        "\n",
        "\n",
        "            vector[:] = primera_mitad + segunda_mitad\n",
        "\n",
        "    else:\n",
        "      for vector in mat:\n",
        "        random.shuffle(vector)\n",
        "\n",
        "  matriz = np.array(mat).T\n",
        "\n",
        "\n",
        "  cmap = mcolors.ListedColormap(['black', 'red', 'white', 'white'])\n",
        "  bounds = [0, 1, 2, 3, 4]\n",
        "  norm = mcolors.BoundaryNorm(bounds, cmap.N)\n",
        "\n",
        "\n",
        "  fig, ax = plt.subplots()\n",
        "\n",
        "\n",
        "  cax = ax.matshow(matriz, cmap=cmap, norm=norm)\n",
        "  ax.invert_yaxis()\n",
        "  ax.xaxis.set_ticks_position('bottom')\n",
        "  ax.xaxis.set_label_position('bottom')\n",
        "  plt.xlabel(\"Interactions over the different slices\")\n",
        "  plt.ylabel(\"Qubits\")\n",
        "\n",
        "  plt.show()"
      ],
      "metadata": {
        "id": "ZJ2nqLB51SVy"
      },
      "execution_count": 18,
      "outputs": []
    },
    {
      "cell_type": "markdown",
      "source": [
        "### Chain probabilities"
      ],
      "metadata": {
        "id": "9lYhCeoaXIj0"
      }
    },
    {
      "cell_type": "code",
      "source": [
        "def mtz(circuito):\n",
        "  eje_y = len(q_circ0.qubits)\n",
        "\n",
        "\n",
        "  circ = circuito\n",
        "  dag = circuit_to_dag(circ)\n",
        "  layers = [dag_to_circuit(layer['graph']) for layer in dag.layers()]\n",
        "  #print(len(layers))\n",
        "  eje_x = min(100, len(layers)) #depth\n",
        "\n",
        "  # Un elemento de la lista es un slice, dentro de un slice hay un elemento por qubit\n",
        "  matriz_pura = [[0 for _ in range(eje_y)] for _ in range(eje_x)]\n",
        "\n",
        "  for i in range(eje_x):\n",
        "      layer_as_circuit = layers[i]\n",
        "      n_gates = len(layer_as_circuit.data)\n",
        "      for operacion in layer_as_circuit:\n",
        "        for qub in operacion.qubits:\n",
        "          participa = int(str(qub).split(',')[-1][1:-1])\n",
        "          matriz_pura[i][participa] = 1\n",
        "\n",
        "  return matriz_pura\n",
        "\n",
        "\" Vamos a analizar las distancias entre qubits. Si hay distancia 1 tenemos una cadena de 2, si hay dos 1s seguidos una cadena de 3...\"\n",
        "\" Cuando tengamos todas las sumas haremos las probabilidades\"\n",
        "def get_chains(distancias, matriz):\n",
        "  probabilidades = {}\n",
        "  conteos = {}\n",
        "  for qubite in distancias.keys():\n",
        "    qubit = distancias[qubite]\n",
        "    id = 1\n",
        "    en_cadena = False\n",
        "    for distancia in qubit:\n",
        "      if distancia == 1:\n",
        "        en_cadena = True\n",
        "        id += 1\n",
        "      elif en_cadena: # Just out of a chain\n",
        "        if id not in conteos.keys():\n",
        "          conteos[id] = 0\n",
        "        conteos[id] += 1\n",
        "        id = 1\n",
        "        en_cadena = False\n",
        "      else:\n",
        "        # Distance != 1 and NOT just out of a chain\n",
        "        if 1 not in conteos.keys():\n",
        "          conteos[1] = 0\n",
        "        conteos[1] +=1 # 1 qubit chain\n",
        "    if en_cadena:\n",
        "      # If we ended up the distances but remained on a chain, we add it\n",
        "      if id not in conteos.keys():\n",
        "          conteos[id] = 0\n",
        "      conteos[id] += 1\n",
        "  # In the counts we have the numbers of the chains. Now it's time to consider that chain(6) has also a chain(5)...\n",
        "  probabilidades[0] = 1 # We can always add a qubit from 0\n",
        "  \" How many qubits you have before (and the actual slice). A 1 presents a chain of 2...\"\n",
        "  zeros_totales = 0\n",
        "  zeros_unos = 0\n",
        "  for slic in range(len(matriz)):\n",
        "    for qub in range(len(matriz[0])):\n",
        "      if matriz[slic][qub] == 0 or (slic == 0 and matriz[slic][qub] == 1):\n",
        "        zeros_totales += 1\n",
        "        if slic < len(matriz) -1:\n",
        "            if matriz[slic+1][qub] != 0:\n",
        "              zeros_unos += 1\n",
        "\n",
        "  sumas = [0 for _ in range(max(conteos.keys())+2)] # If we have up to len 7 chains, we have 9 positions (one for 0 and one to cut the succesion)\n",
        "\n",
        "  for idx in range(len(sumas)-2,0,-1):\n",
        "    # Adding backwards\n",
        "    cuenta = 0\n",
        "    if idx in conteos.keys():\n",
        "      cuenta = conteos[idx]\n",
        "    sumas[idx] = cuenta + sumas[idx+1]\n",
        "  sumas[0] = zeros_totales\n",
        "\n",
        "  # Probability of continuing\n",
        "  probabilidades[0] = zeros_unos / zeros_totales\n",
        "\n",
        "  for i in range(1,len(sumas)-1):\n",
        "    cuenta2 = 0\n",
        "    if i in conteos.keys():\n",
        "      cuenta2 = conteos[i]\n",
        "\n",
        "    probabilidades[i] = 1 - ( cuenta2 / sumas[i] )\n",
        "\n",
        "  probabilidades[max(conteos.keys())] = sys.float_info.epsilon\n",
        "\n",
        "\n",
        "\n",
        "  return probabilidades"
      ],
      "metadata": {
        "id": "_pAaqDlYamk4"
      },
      "execution_count": 19,
      "outputs": []
    },
    {
      "cell_type": "markdown",
      "source": [
        "# Test Zone"
      ],
      "metadata": {
        "id": "-aClxkK_XLb_"
      }
    },
    {
      "cell_type": "markdown",
      "source": [
        "##Algorithms"
      ],
      "metadata": {
        "id": "OrVNirE2XlTb"
      }
    },
    {
      "cell_type": "markdown",
      "source": [
        "### QAOA's BP5 and Wi7 graphs"
      ],
      "metadata": {
        "id": "K8cALq-YmTm7"
      }
    },
    {
      "cell_type": "code",
      "source": [
        "BPP5 = [\n",
        "    (0, 5), (0, 10), (0, 15), (0, 20), (0, 25), (0, 30), (0, 31), (0, 32), (0, 33),(5, 6), (5, 7), (5, 8), (5, 9), (5, 10), (5, 15), (5, 20), (5, 25), (5, 30), (5, 31),(5, 32), (5, 33), (10, 11), (10, 12), (10, 13), (10, 14), (10, 15), (10, 20), (10, 25),(10, 30), (10, 31), (10, 32), (10, 33), (15, 16), (15, 17), (15, 18), (15, 19), (15, 20),(15, 25), (15, 30), (15, 31), (15, 32), (15, 33), (20, 21), (20, 22), (20, 23), (20, 24),(20, 25), (20, 30), (20, 31), (20, 32), (20, 33), (25, 26), (25, 27), (25, 28), (25, 29),(25, 30), (25, 31), (25, 32), (25, 33), (30, 31), (30, 32), (30, 33), (31, 32), (31, 33),(32, 33), (1, 6), (1, 11), (1, 16), (1, 21), (1, 26), (1, 34), (1, 35), (1, 36), (1, 37),(6, 7), (6, 8), (6, 9), (6, 11), (6, 16), (6, 21), (6, 26), (6, 34), (6, 35), (6, 36),(6, 37), (11, 12), (11, 13), (11, 14), (11, 16), (11, 21), (11, 26), (11, 34), (11, 35),(11, 36), (11, 37), (16, 17), (16, 18), (16, 19), (16, 21), (16, 26), (16, 34), (16, 35),(16, 36), (16, 37), (21, 22), (21, 23), (21, 24), (21, 26), (21, 34), (21, 35), (21, 36),(21, 37), (26, 27), (26, 28), (26, 29), (26, 34), (26, 35), (26, 36), (26, 37), (34, 35),(34, 36), (34, 37), (35, 36), (35, 37), (36, 37), (2, 7), (2, 12), (2, 17), (2, 22), (2, 27),(2, 38), (2, 39), (2, 40), (2, 41), (7, 8), (7, 9), (7, 12), (7, 17), (7, 22), (7, 27), (7, 38),(7, 39), (7, 40), (7, 41), (12, 13), (12, 14), (12, 17), (12, 22), (12, 27), (12, 38), (12, 39),(12, 40), (12, 41), (17, 18), (17, 19), (17, 22), (17, 27), (17, 38), (17, 39), (17, 40), (17, 41),(22, 23), (22, 24), (22, 27), (22, 38), (22, 39), (22, 40), (22, 41), (27, 28), (27, 29), (27, 38),(27, 39), (27, 40), (27, 41), (38, 39), (38, 40), (38, 41), (39, 40), (39, 41), (40, 41), (3, 8),(3, 13), (3, 18), (3, 23), (3, 28), (3, 42), (3, 43), (3, 44), (3, 45), (8, 9), (8, 13), (8, 18),(8, 23), (8, 28), (8, 42), (8, 43), (8, 44), (8, 45), (13, 14), (13, 18), (13, 23), (13, 28),(13, 42), (13, 43), (13, 44), (13, 45), (18, 19), (18, 23), (18, 28), (18, 42), (18, 43), (18, 44),(18, 45), (23, 24), (23, 28), (23, 42), (23, 43), (23, 44), (23, 45), (28, 29), (28, 42), (28, 43),(28, 44), (28, 45), (42, 43), (42, 44), (42, 45), (43, 44), (43, 45), (44, 45), (4, 9), (4, 14),(4, 19), (4, 24), (4, 29), (4, 46), (4, 47), (4, 48), (4, 49), (9, 14), (9, 19), (9, 24), (9, 29),(9, 46), (9, 47), (9, 48), (9, 49), (14, 19), (14, 24), (14, 29), (14, 46), (14, 47), (14, 48),(14, 49), (19, 24), (19, 29), (19, 46), (19, 47), (19, 48), (19, 49), (24, 29), (24, 46), (24, 47),(24, 48), (24, 49), (29, 46), (29, 47), (29, 48), (29, 49), (46, 47), (46, 48), (46, 49), (47, 48),(47, 49), (48, 49)\n",
        "]\n",
        "\n",
        "listaWi = [\n",
        "    (0, 1), (0, 2), (0, 3), (0, 4), (0, 5), (0, 6), (0, 7), (0, 8), (0, 13), (0, 14),(0, 15), (0, 20), (0, 21), (0, 22), (0, 27), (0, 28), (0, 29), (0, 34), (0, 35),(0, 36), (0, 41), (0, 42), (0, 43), (0, 48), (1, 2), (1, 3), (1, 4), (1, 5),(1, 6), (1, 7), (1, 8), (1, 9), (1, 14), (1, 15), (1, 16), (1, 21), (1, 22),(1, 23), (1, 28), (1, 29), (1, 30), (1, 35), (1, 36), (1, 37), (1, 42), (1, 43),(1, 44), (2, 3), (2, 4), (2, 5), (2, 6), (2, 8), (2, 9), (2, 10), (2, 15), (2, 16),(2, 17), (2, 22), (2, 23), (2, 24), (2, 29), (2, 30), (2, 31), (2, 36), (2, 37),(2, 38), (2, 43), (2, 44), (2, 45), (3, 4), (3, 5), (3, 6), (3, 9), (3, 10),(3, 11), (3, 16), (3, 17), (3, 18), (3, 23), (3, 24), (3, 25), (3, 30), (3, 31),(3, 32), (3, 37), (3, 38), (3, 39), (3, 44), (3, 45), (3, 46), (4, 5), (4, 6),(4, 10), (4, 11), (4, 12), (4, 17), (4, 18), (4, 19), (4, 24), (4, 25), (4, 26),(4, 31), (4, 32), (4, 33), (4, 38), (4, 39), (4, 40), (4, 45), (4, 46), (4, 47),(5, 6), (5, 11), (5, 12), (5, 13), (5, 18), (5, 19), (5, 20), (5, 25), (5, 26),(5, 27), (5, 32), (5, 33), (5, 34), (5, 39), (5, 40), (5, 41), (5, 46), (5, 47),(5, 48), (6, 7), (6, 12), (6, 13), (6, 14), (6, 19), (6, 20), (6, 21), (6, 26),(6, 27), (6, 28), (6, 33), (6, 34), (6, 35), (6, 40), (6, 41), (6, 42), (6, 47),(6, 48), (7, 8), (7, 9), (7, 10), (7, 11), (7, 12), (7, 13), (7, 14), (7, 15),(7, 20), (7, 21), (7, 22), (7, 27), (7, 28), (7, 29), (7, 34), (7, 35), (7, 36),(7, 41), (7, 42), (7, 43), (7, 48), (8, 9), (8, 10), (8, 11), (8, 12), (8, 13),(8, 14), (8, 15), (8, 16), (8, 21), (8, 22), (8, 23), (8, 28), (8, 29), (8, 30),(8, 35), (8, 36), (8, 37), (8, 42), (8, 43), (8, 44), (13, 9), (13, 10), (13, 11),(13, 12), (13, 14), (13, 19), (13, 20), (13, 21), (13, 26), (13, 27), (13, 28),(13, 33), (13, 34), (13, 35), (13, 40), (13, 41), (13, 42), (13, 47), (13, 48),(14, 15), (14, 16), (14, 17), (14, 18), (14, 19), (14, 20), (14, 21), (14, 22),(14, 27), (14, 28), (14, 29), (14, 34), (14, 35), (14, 36), (14, 41), (14, 42),(14, 43), (14, 48), (15, 9), (15, 16), (15, 17), (15, 18), (15, 19), (15, 20),(15, 21), (15, 22), (15, 23), (15, 28), (15, 29), (15, 30), (15, 35), (15, 36),(15, 37), (15, 42), (15, 43), (15, 44), (20, 12), (20, 16), (20, 17), (20, 18),(20, 19), (20, 21), (20, 26), (20, 27), (20, 28), (20, 33), (20, 34), (20, 35),(20, 40), (20, 41), (20, 42), (20, 47), (20, 48), (21, 22), (21, 23), (21, 24),(21, 25), (21, 26), (21, 27), (21, 28), (21, 29), (21, 34), (21, 35), (21, 36),(21, 41), (21, 42), (21, 43), (21, 48), (22, 9), (22, 16), (22, 23), (22, 24),(22, 25), (22, 26), (22, 27), (22, 28), (22, 29), (22, 30), (22, 35), (22, 36),(22, 37), (22, 42), (22, 43), (22, 44), (27, 12), (27, 19), (27, 23), (27, 24),(27, 25), (27, 26), (27, 28), (27, 33), (27, 34), (27, 35), (27, 40), (27, 41),(27, 42), (27, 47), (27, 48), (28, 29), (28, 30), (28, 31), (28, 32), (28, 33),(28, 34), (28, 35), (28, 36), (28, 41), (28, 42), (28, 43), (28, 48), (29, 9),(29, 16), (29, 23), (29, 30), (29, 31), (29, 32), (29, 33), (29, 34), (29, 35),(29, 36), (29, 37), (29, 42), (29, 43), (29, 44), (34, 12), (34, 19), (34, 26),(34, 30), (34, 31), (34, 32), (34, 33), (34, 35), (34, 40), (34, 41), (34, 42),(34, 47), (34, 48), (35, 36), (35, 37), (35, 38), (35, 39), (35, 40), (35, 41),(35, 42), (35, 43), (35, 48), (36, 9), (36, 16), (36, 23), (36, 30), (36, 37),(36, 38), (36, 39), (36, 40), (36, 41), (36, 42), (36, 43), (36, 44), (41, 12),(41, 19), (41, 26), (41, 33), (41, 37), (41, 38), (41, 39), (41, 40), (41, 42),(41, 47), (41, 48), (42, 43), (42, 44), (42, 45), (42, 46), (42, 47), (42, 48),(43, 9), (43, 16), (43, 23), (43, 30), (43, 37), (43, 44), (43, 45), (43, 46),(43, 47), (43, 48), (48, 12), (48, 19), (48, 26), (48, 33), (48, 40), (48, 44),(48, 45), (48, 46), (48, 47), (9, 10), (9, 11), (9, 12), (9, 16), (9, 17), (9, 23),(9, 24), (9, 30), (9, 31), (9, 37), (9, 38), (9, 44), (9, 45), (16, 10), (16, 17),(16, 18), (16, 19), (16, 23), (16, 24), (16, 30), (16, 31), (16, 37), (16, 38),(16, 44), (16, 45), (23, 10), (23, 17), (23, 24), (23, 25), (23, 26), (23, 30),(23, 31), (23, 37), (23, 38), (23, 44), (23, 45), (30, 10), (30, 17), (30, 24),(30, 31), (30, 32), (30, 33), (30, 37), (30, 38), (30, 44), (30, 45), (37, 10),(37, 17), (37, 24), (37, 31), (37, 38), (37, 39), (37, 40), (37, 44), (37, 45),(44, 10), (44, 17), (44, 24), (44, 31), (44, 38), (44, 45), (44, 46), (44, 47),(10, 11), (10, 12), (10, 17), (10, 18), (10, 24), (10, 25), (10, 31), (10, 32),(10, 38), (10, 39), (10, 45), (10, 46), (17, 11), (17, 18), (17, 19), (17, 24),(17, 25), (17, 31), (17, 32), (17, 38), (17, 39), (17, 45), (17, 46), (24, 11),(24, 18), (24, 25), (24, 26), (24, 31), (24, 32), (24, 38), (24, 39), (24, 45),(24, 46), (31, 11), (31, 18), (31, 25), (31, 32), (31, 33), (31, 38), (31, 39),(31, 45), (31, 46), (38, 11), (38, 18), (38, 25), (38, 32), (38, 39), (38, 40),(38, 45), (38, 46), (45, 11), (45, 18), (45, 25), (45, 32), (45, 39), (45, 46),(45, 47), (11, 12), (11, 18), (11, 19), (11, 25), (11, 26), (11, 32), (11, 33),(11, 39), (11, 40), (11, 46), (11, 47), (18, 12), (18, 19), (18, 25), (18, 26),(18, 32), (18, 33), (18, 39), (18, 40), (18, 46), (18, 47), (25, 12), (25, 19),(25, 26), (25, 32), (25, 33), (25, 39), (25, 40), (25, 46), (25, 47), (32, 12),(32, 19), (32, 26), (32, 33), (32, 39), (32, 40), (32, 46), (32, 47), (39, 12),(39, 19), (39, 26), (39, 33), (39, 40), (39, 46), (39, 47), (46, 12), (46, 19),(46, 26), (46, 33), (46, 40), (46, 47), (12, 19), (12, 26), (12, 33), (12, 40),(12, 47), (19, 26), (19, 33), (19, 40), (19, 47), (26, 33), (26, 40), (26, 47),(33, 40), (33, 47), (40, 47)\n",
        "]"
      ],
      "metadata": {
        "id": "AdsiHyLos3Sq"
      },
      "execution_count": 20,
      "outputs": []
    },
    {
      "cell_type": "markdown",
      "source": [
        "Creation of the three QAOA Circuits based on their graphs"
      ],
      "metadata": {
        "id": "fN8RZgRR1Lgt"
      }
    },
    {
      "cell_type": "code",
      "source": [
        "from qiskit.circuit.library import QAOAAnsatz\n",
        "from qiskit.quantum_info import SparsePauliOp\n",
        "from qiskit.visualization import plot_distribution\n",
        "from qiskit_ibm_runtime import QiskitRuntimeService, Session\n",
        "from qiskit_ibm_runtime import EstimatorV2 as Estimator\n",
        "from qiskit_ibm_runtime import SamplerV2 as Sampler\n",
        "from scipy.optimize import minimize\n",
        "import rustworkx as rx\n",
        "from rustworkx.visualization import mpl_draw\n",
        "\n",
        "\n",
        "backend = AerSimulator()\n",
        "\n",
        "\n",
        "num_nodes = 50\n",
        "\n",
        "edges = [(0,x,1) for x in range(1,num_nodes)]\n",
        "\n",
        "edegesPBB = [(a,b,1) for (a,b) in BPP5]\n",
        "\n",
        "lista = []\n",
        "\n",
        "for i in range(len(edges)):\n",
        "  base_i = [\"I\" for x in range(num_nodes)]\n",
        "  base_i[edges[i][0]] = \"Z\"\n",
        "  base_i[edges[i][1]] = \"Z\"\n",
        "  base_i = \"\".join(base_i)\n",
        "  lista.append((base_i[::-1],1))\n",
        "\n",
        "\n",
        "hamiltonian = SparsePauliOp.from_list(lista)\n",
        "\n",
        "ansatz = QAOAAnsatz(hamiltonian, reps=2)\n",
        "q_circStar2 = ansatz.decompose().decompose().decompose()\n",
        "\n",
        "\n",
        "listaBPP = []\n",
        "\n",
        "for i in range(len(edegesPBB)):\n",
        "  base_i = [\"I\" for x in range(num_nodes)]\n",
        "  base_i[edegesPBB[i][0]] = \"Z\"\n",
        "  base_i[edegesPBB[i][1]] = \"Z\"\n",
        "  base_i = \"\".join(base_i)\n",
        "  listaBPP.append((base_i[::-1],1))\n",
        "\n",
        "hamiltonianBPP = SparsePauliOp.from_list(listaBPP)\n",
        "ansatzBPP = QAOAAnsatz(hamiltonianBPP, reps=2)\n",
        "q_circBPP = ansatzBPP.decompose().decompose().decompose()\n",
        "\n",
        "\n",
        "edegesWi = [(a,b,1) for (a,b) in listaWi]\n",
        "listaWi = []\n",
        "\n",
        "for i in range(len(edegesWi)):\n",
        "  base_i = [\"I\" for x in range(num_nodes)]\n",
        "  base_i[edegesWi[i][0]] = \"Z\"\n",
        "  base_i[edegesWi[i][1]] = \"Z\"\n",
        "  base_i = \"\".join(base_i)\n",
        "  listaWi.append((base_i[::-1],1))\n",
        "\n",
        "hamiltonianWi = SparsePauliOp.from_list(listaWi)\n",
        "ansatzWi = QAOAAnsatz(hamiltonianWi, reps=2)\n",
        "q_circWi7 = ansatzWi.decompose().decompose().decompose()"
      ],
      "metadata": {
        "id": "w3mLss-wDh9l"
      },
      "execution_count": 21,
      "outputs": []
    },
    {
      "cell_type": "markdown",
      "source": [
        "### Initialization of algorithms and metric extraction"
      ],
      "metadata": {
        "id": "8zqgcNWtmmxq"
      }
    },
    {
      "cell_type": "code",
      "source": [
        "from qiskit.circuit.library import QFT, DraperQFTAdder, CDKMRippleCarryAdder, TwoLocal\n",
        "qubits = 50\n",
        "q_circ0 = QFT(50) # QFT\n",
        "q_circ0 = q_circ0.decompose()\n",
        "q_circ1 = DraperQFTAdder(int(qubits/2)) # Draper\n",
        "q_circ1 = q_circ1.decompose()\n",
        "q_circ2 =  CDKMRippleCarryAdder(int(qubits/2)-1)  # Cuccaro\n",
        "q_circ2 = q_circ2.decompose().decompose()\n",
        "q_circStar = q_circStar2  # QAOA Star\n",
        "q_circBP5 = q_circBPP # QAOA BP5\n",
        "q_circWi = q_circWi7  # QAOA Wi7"
      ],
      "metadata": {
        "id": "L_uTUhXTYK3S"
      },
      "execution_count": 22,
      "outputs": []
    },
    {
      "cell_type": "markdown",
      "source": [
        "Here, leave without comments the circuit that you want to use as a base for the generator"
      ],
      "metadata": {
        "id": "kmDt6mB51YDv"
      }
    },
    {
      "cell_type": "code",
      "execution_count": 40,
      "metadata": {
        "colab": {
          "base_uri": "https://localhost:8080/"
        },
        "id": "yqo2X3vZBHdb",
        "outputId": "cc5422a4-6c8b-4d64-b28f-05cab830c1b7"
      },
      "outputs": [
        {
          "output_type": "stream",
          "name": "stdout",
          "text": [
            " Inicializando datos \n",
            " Datos obtenidos \n"
          ]
        }
      ],
      "source": [
        "print(\" Inicializando datos \")\n",
        "\n",
        "#Circuito_A_Simular = q_circ0 # QFT\n",
        "#Circuito_A_Simular = q_circ1 # DRAPER\n",
        "Circuito_A_Simular = q_circ2 # CDKMRippleCarryAdder\n",
        "#Circuito_A_Simular = q_circStar # QAOA Star\n",
        "#Circuito_A_Simular = q_circBP5 # QAOA BP5\n",
        "#Circuito_A_Simular = q_circWi # QAOA Wi7\n",
        "\n",
        "\"Distribution gates/slice\"\n",
        "distr = calcula_distribucion(Circuito_A_Simular)\n",
        "distrP = probDic(distr)\n",
        "distrP[50] = 0\n",
        "\"Probabilities of qubits by their distances\"\n",
        "pos = posiciones_gates_slices(Circuito_A_Simular)\n",
        "dst = distancias_gates_slices(pos)\n",
        "suma = crea_probabilidades(dst)\n",
        "probs = calcula(suma)\n",
        "\n",
        "\"Weighted adjacency matrix\"\n",
        "matriz_grafo2 = get_adjacency_matrix(Circuito_A_Simular)\n",
        "\n",
        "\" Chain interactions\"\n",
        "matZ = mtz(Circuito_A_Simular)\n",
        "cadena_original = get_chains(dst,matZ)\n",
        "\" Depth y gates for the algorithms. The gates only for the total random circuit\"\n",
        "depth_a_simular = len([dag_to_circuit(layer['graph']) for layer in circuit_to_dag(Circuito_A_Simular).layers()])\n",
        "gates_para_random = len(Circuito_A_Simular)\n",
        "print(\" Datos obtenidos \")"
      ]
    },
    {
      "cell_type": "markdown",
      "source": [
        "## Tester"
      ],
      "metadata": {
        "id": "KQBp4k5MXoDF"
      }
    },
    {
      "cell_type": "markdown",
      "source": [
        "Here, after \"PARAMETERS FINISHED\" you can modify:\n",
        "-  the number of transpilations (xx in range(z) where z is the number desired)\n",
        "-  the parameters of creation of the several circuits (CreaCircuitoMountain for the synthetic circuit, CreaCircuitoRandom for the guided random, and CreaRandomTotal for the random circit)\n",
        "-  the transpilator parameters (inside the \"transpile\" funcitons, several parameters are adjustable). Nothe that the first parameter of the transpilation of the original circuit (COMP_q_circ0 = transpile(...)) must be the circuit selected for the test, right now is q_circ2, Cuccaro."
      ],
      "metadata": {
        "id": "8j8A069V1v-t"
      }
    },
    {
      "cell_type": "code",
      "source": [
        "import math, copy\n",
        "import networkx as nx\n",
        "backend = AerSimulator()\n",
        "\" 50,100\"\n",
        "qubits = (math.floor(np.sqrt(50)) +1)**2\n",
        "G = nx.grid_2d_graph(int(np.sqrt(qubits)), int(np.sqrt(qubits)))\n",
        "A = nx.adjacency_matrix(G).toarray()\n",
        "adj_list = []\n",
        "for i in range(len(A)):\n",
        "    for j in range(len(A[0])):\n",
        "        if A[i][j] == 1:\n",
        "            adj_list.append([i, j])\n",
        "\n",
        "# ('basic', 'stochastic', 'sabre', lookahead)\n",
        "ruta = 'sabre'\n",
        "op_lvl = 0\n",
        "\" Original, Sintetico y RC\"\n",
        "swaps = [[],[],[],[]]\n",
        "dephts = [[],[],[],[]]\n",
        "\" Sintetico y RC \"\n",
        "entropias = [[],[],[]]\n",
        "\n",
        "matriz_grafo = copy.deepcopy(matriz_grafo2)\n",
        "\n",
        "\"\"\"\" PARAMETERS FINISHED \"\"\"\n",
        "\n",
        "for xx in range (10):\n",
        "  if xx % 5 == 0:\n",
        "    print(\"It\", xx+1, \"de\", 100)\n",
        "\n",
        "  circuito_sinteticoMountain, samples = CreaCircuitoMountain(50,depth_a_simular,distrP,probs,matriz_grafo, cadena_original)\n",
        "  #rc = random_circuit(50,100)\n",
        "  rc, sr = CreaCircuitoRandom(50,depth_a_simular,distrP,probs,matriz_grafo)\n",
        "\n",
        "  rc2 = CreaRandomTotal(50,gates_para_random)\n",
        "\n",
        "  basis_gates = ['u1', 'u2', 'u3', 'cx', 'h', 'swap']\n",
        "  #basis_gates = ['cp', 'h', 'swap', 'ccx']\n",
        "  ini_layout = [i for i in range(50)]\n",
        "  basis_gates = ['u1', 'u2', 'u3', 'cx', 'h', 'swap', 'cp', 'ccx']\n",
        "  COMP_q_circ0 = transpile(q_circ2, backend, coupling_map=adj_list, basis_gates=basis_gates,optimization_level=0, translation_method='translator', routing_method='sabre', initial_layout= ini_layout)\n",
        "\n",
        "\n",
        "  #basis_gates = ['cx', 'h', 'swap']\n",
        "  ini_layout = [i for i in range(50)]\n",
        "  COMP_circuito_sinteticoMountain = transpile(circuito_sinteticoMountain, backend, coupling_map=adj_list, basis_gates=basis_gates,optimization_level=0,\n",
        "                                              translation_method='translator', routing_method='sabre', initial_layout= ini_layout)\n",
        "  #basis_gates = ['cx', 'h', 'swap']\n",
        "\n",
        "  COMP_rc = transpile(rc, backend, coupling_map=adj_list, basis_gates=basis_gates,optimization_level=0, initial_layout= ini_layout, translation_method='translator', routing_method='sabre')\n",
        "  COMP_rc2 = transpile(rc2, backend, coupling_map=adj_list, basis_gates=basis_gates,optimization_level=0, initial_layout= ini_layout, translation_method='translator', routing_method='sabre')\n",
        "\n",
        "  SINnum_swap_gates = sum(1 for instr in COMP_circuito_sinteticoMountain if instr.operation.name == 'swap')\n",
        "  RCnum_swap_gates = sum(1 for instr in COMP_rc if instr.operation.name == 'swap')\n",
        "  RCnum_swap_gates2 = sum(1 for instr in COMP_rc2 if instr.operation.name == 'swap')\n",
        "  QFTnum_swap_gates = sum(1 for instr in COMP_q_circ0 if instr.operation.name == 'swap')\n",
        "\n",
        "  swaps[0].append(QFTnum_swap_gates)\n",
        "  swaps[1].append(SINnum_swap_gates)\n",
        "  swaps[2].append(RCnum_swap_gates)\n",
        "  swaps[3].append(RCnum_swap_gates2)\n",
        "\n",
        "  dephts[0].append(COMP_q_circ0.depth())\n",
        "  dephts[1].append(COMP_circuito_sinteticoMountain.depth())\n",
        "  dephts[2].append(COMP_rc.depth())\n",
        "  dephts[3].append(COMP_rc2.depth())\n",
        "\n",
        "  entropias[0].append(calculate_entr(calcula_matriz_de_circuito(circuito_sinteticoMountain)))\n",
        "  entropias[1].append(calculate_entr(calcula_matriz_de_circuito(rc)))\n",
        "  entropias[2].append(calculate_entr(calcula_matriz_de_circuito(rc2)))"
      ],
      "metadata": {
        "colab": {
          "base_uri": "https://localhost:8080/"
        },
        "id": "jFaHr59pO6CS",
        "outputId": "4d55267e-0084-4c7f-97cf-8b7beb4ba60c"
      },
      "execution_count": 24,
      "outputs": [
        {
          "output_type": "stream",
          "name": "stdout",
          "text": [
            "It 1 de 100\n",
            "It 6 de 100\n"
          ]
        }
      ]
    },
    {
      "cell_type": "markdown",
      "source": [
        "## Transpilator metrics"
      ],
      "metadata": {
        "id": "GCB96vICXsCb"
      }
    },
    {
      "cell_type": "markdown",
      "source": [
        "###Depth"
      ],
      "metadata": {
        "id": "U5Y68uerXtxF"
      }
    },
    {
      "cell_type": "code",
      "source": [
        "plt.hist(dephts[0], color='blue', alpha=0.5, label='Original')\n",
        "\n",
        "plt.hist(dephts[1], color='green', alpha=0.5, label='Synthetic')\n",
        "\n",
        "plt.hist(dephts[2], color='red', alpha=0.5, label='Gate-density aware random')\n",
        "\n",
        "plt.hist(dephts[3], color='orange', alpha=0.5, label='Random')\n",
        "\n",
        "\n",
        "plt.legend()\n",
        "plt.xlabel('Depth after compiling')\n",
        "plt.ylabel('Count')\n",
        "\n",
        "plt.show()"
      ],
      "metadata": {
        "colab": {
          "base_uri": "https://localhost:8080/",
          "height": 449
        },
        "id": "Z3-dfvagVBVW",
        "outputId": "e91f7da5-fb59-443b-8a88-c38c3cc7c4a4"
      },
      "execution_count": 25,
      "outputs": [
        {
          "output_type": "display_data",
          "data": {
            "text/plain": [
              "<Figure size 640x480 with 1 Axes>"
            ],
            "image/png": "[encoded data removed]"
          },
          "metadata": {}
        }
      ]
    },
    {
      "cell_type": "markdown",
      "source": [
        "### Swaps"
      ],
      "metadata": {
        "id": "z_mYB6TUXvek"
      }
    },
    {
      "cell_type": "code",
      "source": [
        "plt.hist(swaps[0], color='blue', alpha=0.5, label='Original')\n",
        "\n",
        "plt.hist(swaps[1], color='green', alpha=0.5, label='Synthetic')\n",
        "\n",
        "plt.hist(swaps[2], color='red', alpha=0.5, label='Gate-density aware random')\n",
        "\n",
        "plt.hist(swaps[3], color='orange', alpha=0.5, label='Random')\n",
        "\n",
        "plt.legend()\n",
        "plt.xlabel('Swaps needed after compiling')\n",
        "plt.ylabel('Count')\n",
        "\n",
        "plt.show()"
      ],
      "metadata": {
        "colab": {
          "base_uri": "https://localhost:8080/",
          "height": 449
        },
        "id": "uZwKr3ngU5dE",
        "outputId": "83f97143-aaed-4f33-81e0-1da86acf6828"
      },
      "execution_count": 26,
      "outputs": [
        {
          "output_type": "display_data",
          "data": {
            "text/plain": [
              "<Figure size 640x480 with 1 Axes>"
            ],
            "image/png": "[encoded data removed]"
          },
          "metadata": {}
        }
      ]
    },
    {
      "cell_type": "markdown",
      "source": [
        "## Entropies"
      ],
      "metadata": {
        "id": "PeSiLpcVX2Hb"
      }
    },
    {
      "cell_type": "code",
      "source": [
        "plt.hist(entropias[0], color='blue', alpha=0.5, label='Synthetic')\n",
        "\n",
        "plt.hist(entropias[1], color='red', alpha=0.5, label='Gate-density aware random')\n",
        "\n",
        "plt.hist(entropias[2], color='orange', alpha=0.5, label='Random')\n",
        "\n",
        "plt.legend()\n",
        "plt.xlabel('Entropies')\n",
        "plt.ylabel('Count')\n",
        "\n",
        "plt.show()"
      ],
      "metadata": {
        "colab": {
          "base_uri": "https://localhost:8080/",
          "height": 449
        },
        "id": "kZys1z38Xe01",
        "outputId": "1e879a57-5b3f-4280-f973-8721d9f15b8d"
      },
      "execution_count": 32,
      "outputs": [
        {
          "output_type": "display_data",
          "data": {
            "text/plain": [
              "<Figure size 640x480 with 1 Axes>"
            ],
            "image/png": "[encoded data removed]"
          },
          "metadata": {}
        }
      ]
    },
    {
      "cell_type": "markdown",
      "source": [
        "## HeatMaps"
      ],
      "metadata": {
        "id": "8_nd3X6aX8vW"
      }
    },
    {
      "cell_type": "code",
      "source": [
        "import matplotlib.pyplot as plt\n",
        "import numpy as np\n",
        "import matplotlib.colors as mcolors\n",
        "# QFT(50).decompose(), rc, circuito_sinteticoMountain\n",
        "#rc, sr = CreaCircuitoRandom(50,depth_a_simular,distrP,probs,matriz_grafo)\n",
        "#circuito_sinteticoMountain, samples = CreaCircuitoMountain(50,depth_a_simular,distrP,probs,matriz_grafo, cadena_original)\n",
        "\n",
        "\n",
        "printa_heatmap(rc) # Guided random\n",
        "printa_heatmap(rc2) #Random\n",
        "printa_heatmap(circuito_sinteticoMountain) #Synthetic\n",
        "printa_heatmap(q_circ2, original = -1) # Original one\n",
        "#printa_heatmap(q_circ2, original = 0)"
      ],
      "metadata": {
        "colab": {
          "base_uri": "https://localhost:8080/",
          "height": 1000
        },
        "id": "Fjve6JQ1X-aP",
        "outputId": "3c3772d4-175c-48c9-ab28-ad01d9e23f82"
      },
      "execution_count": 41,
      "outputs": [
        {
          "output_type": "display_data",
          "data": {
            "text/plain": [
              "<Figure size 640x480 with 1 Axes>"
            ],
            "image/png": "[encoded data removed]"
          },
          "metadata": {}
        },
        {
          "output_type": "display_data",
          "data": {
            "text/plain": [
              "<Figure size 640x480 with 1 Axes>"
            ],
            "image/png": "[encoded data removed]"
          },
          "metadata": {}
        },
        {
          "output_type": "display_data",
          "data": {
            "text/plain": [
              "<Figure size 640x480 with 1 Axes>"
            ],
            "image/png": "[encoded data removed]"
          },
          "metadata": {}
        },
        {
          "output_type": "display_data",
          "data": {
            "text/plain": [
              "<Figure size 640x480 with 1 Axes>"
            ],
            "image/png": "[encoded data removed]"
          },
          "metadata": {}
        }
      ]
    },
    {
      "cell_type": "markdown",
      "source": [
        "## Distribution of gates in slices"
      ],
      "metadata": {
        "id": "RKxXmfdnsE4t"
      }
    },
    {
      "cell_type": "code",
      "source": [
        "distrR = calcula_distribucion(rc)\n",
        "distribucion_gates_por_slice(distrR)\n",
        "\n",
        "distrRR = calcula_distribucion(rc2)\n",
        "distribucion_gates_por_slice(distrRR)\n",
        "\n",
        "distrMont = calcula_distribucion(circuito_sinteticoMountain)\n",
        "distribucion_gates_por_slice(distrMont)\n",
        "\n",
        "distrOriginalMountain = calcula_distribucion(q_circ2)\n",
        "distribucion_gates_por_slice(distrOriginalMountain)"
      ],
      "metadata": {
        "colab": {
          "base_uri": "https://localhost:8080/",
          "height": 1000
        },
        "id": "C9ZlcYz_p4KC",
        "outputId": "c68d9fd7-05fa-4fcf-eceb-8b43f79dec22"
      },
      "execution_count": 29,
      "outputs": [
        {
          "output_type": "display_data",
          "data": {
            "text/plain": [
              "<Figure size 640x480 with 1 Axes>"
            ],
            "image/png": "[encoded data removed]"
          },
          "metadata": {}
        },
        {
          "output_type": "display_data",
          "data": {
            "text/plain": [
              "<Figure size 640x480 with 1 Axes>"
            ],
            "image/png": "[encoded data removed]"
          },
          "metadata": {}
        },
        {
          "output_type": "display_data",
          "data": {
            "text/plain": [
              "<Figure size 640x480 with 1 Axes>"
            ],
            "image/png": "[encoded data removed]"
          },
          "metadata": {}
        },
        {
          "output_type": "display_data",
          "data": {
            "text/plain": [
              "<Figure size 640x480 with 1 Axes>"
            ],
            "image/png": "[encoded data removed]"
          },
          "metadata": {}
        }
      ]
    },
    {
      "cell_type": "markdown",
      "source": [
        "###Statistic tests"
      ],
      "metadata": {
        "id": "WNWBi1bYsW_0"
      }
    },
    {
      "cell_type": "code",
      "source": [
        "CompareDistributions(distrR, distrMont)"
      ],
      "metadata": {
        "colab": {
          "base_uri": "https://localhost:8080/"
        },
        "id": "osGH2c5GqBhO",
        "outputId": "143aba29-6dc8-4f6a-f54c-beeb5872226a"
      },
      "execution_count": 30,
      "outputs": [
        {
          "output_type": "stream",
          "name": "stdout",
          "text": [
            "Statistic of test 1 (Kolmogorov-Smirnov): 0.7619047619047619\n",
            "P value of test 1: 1.4731006618505049e-18\n",
            "Statistic of test 2 (Anderson-Darling): 137.23501337573862\n",
            "P value of test 2: 0.001\n"
          ]
        },
        {
          "output_type": "stream",
          "name": "stderr",
          "text": [
            "<ipython-input-9-561af4df7991>:16: UserWarning: p-value floored: true value smaller than 0.001. Consider specifying `method` (e.g. `method=stats.PermutationMethod()`.)\n",
            "  result_2 = stats.anderson_ksamp([data1, data2])\n"
          ]
        }
      ]
    },
    {
      "cell_type": "markdown",
      "source": [
        "## Wasserstein Distance"
      ],
      "metadata": {
        "id": "GAVBDz-Vs9g6"
      }
    },
    {
      "cell_type": "code",
      "source": [
        "from scipy.stats import wasserstein_distance\n",
        "\n",
        "Original = swaps[0]\n",
        "A_testear =swaps[1]\n",
        "\n",
        "wasserstein_distance(A_testear,Original)"
      ],
      "metadata": {
        "colab": {
          "base_uri": "https://localhost:8080/"
        },
        "id": "KqYCMWXuseX-",
        "outputId": "1c84f57c-b09d-4da5-b5da-6244cf3b4a77"
      },
      "execution_count": 31,
      "outputs": [
        {
          "output_type": "execute_result",
          "data": {
            "text/plain": [
              "45.5"
            ]
          },
          "metadata": {},
          "execution_count": 31
        }
      ]
    }
  ]
}